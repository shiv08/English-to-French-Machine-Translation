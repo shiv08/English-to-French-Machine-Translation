{
 "cells": [
  {
   "cell_type": "markdown",
   "metadata": {
    "colab_type": "text",
    "collapsed": true,
    "id": "zYTitqFERRON"
   },
   "source": [
    "\n",
    "---\n",
    "\n",
    "## Introduction\n",
    "In this notebook, you will build a deep neural network that functions as part of an end-to-end machine translation pipeline. Your completed pipeline will accept English text as input and return the French translation.\n",
    "\n",
    "- **Preprocess** - You'll convert text to sequence of integers.\n",
    "- **Models** Create models which accepts a sequence of integers as input and returns a probability distribution over possible translations. After learning about the basic types of neural networks that are often used for machine translation, you will engage in your own investigations, to design your own model!\n",
    "- **Prediction** Run the model on English text."
   ]
  },
  {
   "cell_type": "code",
   "execution_count": 1,
   "metadata": {
    "colab": {},
    "colab_type": "code",
    "id": "O78C9FDdRROT"
   },
   "outputs": [],
   "source": [
    "import collections\n",
    "\n",
    "import helper\n",
    "import numpy as np\n",
    "import project_tests as tests\n",
    "\n",
    "from keras.preprocessing.text import Tokenizer\n",
    "from keras.preprocessing.sequence import pad_sequences\n",
    "from keras.models import Model\n",
    "from keras.layers import LSTM, GRU, Input, Dense, TimeDistributed, Activation, RepeatVector, Bidirectional, Dropout\n",
    "from keras.layers.embeddings import Embedding\n",
    "from keras.optimizers import Adam\n",
    "from keras.losses import sparse_categorical_crossentropy\n",
    "\n",
    "from sklearn.model_selection import train_test_split"
   ]
  },
  {
   "cell_type": "markdown",
   "metadata": {
    "colab_type": "text",
    "id": "omZBlPYDRROe"
   },
   "source": [
    "## Dataset\n",
    "We begin by investigating the dataset that will be used to train and evaluate your pipeline.  The most common datasets used for machine translation are from [WMT](http://www.statmt.org/).  However, that will take a long time to train a neural network on.  We'll be using a dataset we created for this project that contains a small vocabulary.  You'll be able to train your model in a reasonable time with this dataset.\n",
    "### Load Data\n",
    "The data is located in `data/small_vocab_en` and `data/small_vocab_fr`. The `small_vocab_en` file contains English sentences with their French translations in the `small_vocab_fr` file. Load the English and French data from these files from running the cell below."
   ]
  },
  {
   "cell_type": "code",
   "execution_count": 2,
   "metadata": {
    "colab": {
     "base_uri": "https://localhost:8080/",
     "height": 54
    },
    "colab_type": "code",
    "id": "-ZcY6C8iRROf",
    "outputId": "9cc3615b-86d5-42a5-81c7-eabeade889fe"
   },
   "outputs": [
    {
     "name": "stdout",
     "output_type": "stream",
     "text": [
      "Dataset Loaded\n",
      "<class 'list'>\n"
     ]
    }
   ],
   "source": [
    "# Load English data\n",
    "english_sentences = helper.load_data('small_vocab_en.txt')\n",
    "# Load French data\n",
    "french_sentences = helper.load_data('small_vocab_fr.txt')\n",
    "\n",
    "print('Dataset Loaded')\n",
    "print(type(english_sentences))"
   ]
  },
  {
   "cell_type": "markdown",
   "metadata": {
    "colab_type": "text",
    "id": "ZHXBy7udRROi"
   },
   "source": [
    "### Files\n",
    "Each line in `small_vocab_en` contains an English sentence with the respective translation in each line of `small_vocab_fr`.  View the first two lines from each file."
   ]
  },
  {
   "cell_type": "code",
   "execution_count": 3,
   "metadata": {
    "colab": {
     "base_uri": "https://localhost:8080/",
     "height": 110
    },
    "colab_type": "code",
    "id": "bYIPn1jqRROj",
    "outputId": "8f62a65e-f292-4e98-9b49-7b5559d58ac8"
   },
   "outputs": [
    {
     "name": "stdout",
     "output_type": "stream",
     "text": [
      "small_vocab_en Line 1:  new jersey is sometimes quiet during autumn , and it is snowy in april .\n",
      "small_vocab_fr Line 1:  new jersey est parfois calme pendant l' automne , et il est neigeux en avril .\n",
      "small_vocab_en Line 2:  the united states is usually chilly during july , and it is usually freezing in november .\n",
      "small_vocab_fr Line 2:  les Ã©tats-unis est gÃ©nÃ©ralement froid en juillet , et il gÃ¨le habituellement en novembre .\n"
     ]
    }
   ],
   "source": [
    "for sample_i in range(2):\n",
    "    print('small_vocab_en Line {}:  {}'.format(sample_i + 1, english_sentences[sample_i]))\n",
    "    print('small_vocab_fr Line {}:  {}'.format(sample_i + 1, french_sentences[sample_i]))"
   ]
  },
  {
   "cell_type": "markdown",
   "metadata": {
    "colab_type": "text",
    "id": "aP3WvVeGRROn"
   },
   "source": [
    "From looking at the sentences, you can see they have been preprocessed already.  The puncuations have been delimited using spaces. All the text have been converted to lowercase.  This should save you some time, but the text requires more preprocessing.\n",
    "### Vocabulary\n",
    "The complexity of the problem is determined by the complexity of the vocabulary.  A more complex vocabulary is a more complex problem.  Let's look at the complexity of the dataset we'll be working with."
   ]
  },
  {
   "cell_type": "code",
   "execution_count": 4,
   "metadata": {
    "colab": {
     "base_uri": "https://localhost:8080/",
     "height": 181
    },
    "colab_type": "code",
    "id": "49-y8Ou_RROo",
    "outputId": "25235d01-7c6b-448f-afe1-cd3ce7bfde5d"
   },
   "outputs": [
    {
     "name": "stdout",
     "output_type": "stream",
     "text": [
      "1823250 English words.\n",
      "227 unique English words.\n",
      "10 Most common words in the English dataset:\n",
      "\"is\" \",\" \".\" \"in\" \"it\" \"during\" \"the\" \"but\" \"and\" \"sometimes\"\n",
      "\n",
      "1961295 French words.\n",
      "355 unique French words.\n",
      "10 Most common words in the French dataset:\n",
      "\"est\" \".\" \",\" \"en\" \"il\" \"les\" \"mais\" \"et\" \"la\" \"parfois\"\n"
     ]
    }
   ],
   "source": [
    "english_words_counter = collections.Counter([word for sentence in english_sentences for word in sentence.split()])\n",
    "french_words_counter = collections.Counter([word for sentence in french_sentences for word in sentence.split()])\n",
    "\n",
    "print('{} English words.'.format(len([word for sentence in english_sentences for word in sentence.split()])))\n",
    "print('{} unique English words.'.format(len(english_words_counter)))\n",
    "print('10 Most common words in the English dataset:')\n",
    "print('\"' + '\" \"'.join(list(zip(*english_words_counter.most_common(10)))[0]) + '\"')\n",
    "print()\n",
    "print('{} French words.'.format(len([word for sentence in french_sentences for word in sentence.split()])))\n",
    "print('{} unique French words.'.format(len(french_words_counter)))\n",
    "print('10 Most common words in the French dataset:')\n",
    "print('\"' + '\" \"'.join(list(zip(*french_words_counter.most_common(10)))[0]) + '\"')"
   ]
  },
  {
   "cell_type": "markdown",
   "metadata": {
    "colab_type": "text",
    "id": "536FgwzpRROr"
   },
   "source": [
    "For comparison, _Alice's Adventures in Wonderland_ contains 2,766 unique words of a total of 15,500 words.\n",
    "## Preprocess\n",
    "For this project, you won't use text data as input to your model. Instead, you'll convert the text into sequences of integers using the following preprocess methods:\n",
    "1. Tokenize the words into ids\n",
    "2. Add padding to make all the sequences the same length.\n",
    "\n",
    "Time to start preprocessing the data...\n",
    "### Tokenize (IMPLEMENTATION)\n",
    "For a neural network to predict on text data, it first has to be turned into data it can understand. Text data like \"dog\" is a sequence of ASCII character encodings.  Since a neural network is a series of multiplication and addition operations, the input data needs to be number(s).\n",
    "\n",
    "We can turn each character into a number or each word into a number.  These are called character and word ids, respectively.  Character ids are used for character level models that generate text predictions for each character.  A word level model uses word ids that generate text predictions for each word.  Word level models tend to learn better, since they are lower in complexity, so we'll use those.\n",
    "\n",
    "Turn each sentence into a sequence of words ids using Keras's [`Tokenizer`](https://keras.io/preprocessing/text/#tokenizer) function. Use this function to tokenize `english_sentences` and `french_sentences` in the cell below.\n",
    "\n",
    "Running the cell will run `tokenize` on sample data and show output for debugging."
   ]
  },
  {
   "cell_type": "code",
   "execution_count": 5,
   "metadata": {
    "colab": {
     "base_uri": "https://localhost:8080/",
     "height": 237
    },
    "colab_type": "code",
    "id": "9Bq6JFJwRROs",
    "outputId": "ddaf1566-3a69-4aad-a5d3-595f1362c58a"
   },
   "outputs": [
    {
     "name": "stdout",
     "output_type": "stream",
     "text": [
      "{'the': 1, 'quick': 2, 'a': 3, 'brown': 4, 'fox': 5, 'jumps': 6, 'over': 7, 'lazy': 8, 'dog': 9, 'by': 10, 'jove': 11, 'my': 12, 'study': 13, 'of': 14, 'lexicography': 15, 'won': 16, 'prize': 17, 'this': 18, 'is': 19, 'short': 20, 'sentence': 21}\n",
      "\n",
      "Sequence 1 in x\n",
      "  Input:  The quick brown fox jumps over the lazy dog .\n",
      "  Output: [1, 2, 4, 5, 6, 7, 1, 8, 9]\n",
      "Sequence 2 in x\n",
      "  Input:  By Jove , my quick study of lexicography won a prize .\n",
      "  Output: [10, 11, 12, 2, 13, 14, 15, 16, 3, 17]\n",
      "Sequence 3 in x\n",
      "  Input:  This is a short sentence .\n",
      "  Output: [18, 19, 3, 20, 21]\n"
     ]
    }
   ],
   "source": [
    "def tokenize(x):\n",
    "    \"\"\"\n",
    "    Tokenize x\n",
    "    :param x: List of sentences/strings to be tokenized\n",
    "    :return: Tuple of (tokenized x data, tokenizer used to tokenize x)\n",
    "    \"\"\"\n",
    "    # Implement\n",
    "    \n",
    "    # Create the tokeninzer\n",
    "    t = Tokenizer()\n",
    "    # Create dictionary mapping words (str) to their rank/index (int)\n",
    "    t.fit_on_texts(x)\n",
    "    # Use the tokenizer to tokenize the text\n",
    "    text_sequences = t.texts_to_sequences(x)\n",
    "    return text_sequences, t\n",
    "\n",
    "tests.test_tokenize(tokenize)\n",
    "\n",
    "# Tokenize Example output\n",
    "text_sentences = [\n",
    "    'The quick brown fox jumps over the lazy dog .',\n",
    "    'By Jove , my quick study of lexicography won a prize .',\n",
    "    'This is a short sentence .']\n",
    "text_tokenized, text_tokenizer = tokenize(text_sentences)\n",
    "print(text_tokenizer.word_index)\n",
    "print()\n",
    "for sample_i, (sent, token_sent) in enumerate(zip(text_sentences, text_tokenized)):\n",
    "    print('Sequence {} in x'.format(sample_i + 1))\n",
    "    print('  Input:  {}'.format(sent))\n",
    "    print('  Output: {}'.format(token_sent))"
   ]
  },
  {
   "cell_type": "markdown",
   "metadata": {
    "colab_type": "text",
    "id": "cnJWA8b-RROv"
   },
   "source": [
    "### Padding (IMPLEMENTATION)\n",
    "When batching the sequence of word ids together, each sequence needs to be the same length.  Since sentences are dynamic in length, we can add padding to the end of the sequences to make them the same length.\n",
    "\n",
    "Make sure all the English sequences have the same length and all the French sequences have the same length by adding padding to the **end** of each sequence using Keras's [`pad_sequences`](https://keras.io/preprocessing/sequence/#pad_sequences) function."
   ]
  },
  {
   "cell_type": "code",
   "execution_count": 6,
   "metadata": {
    "colab": {
     "base_uri": "https://localhost:8080/",
     "height": 181
    },
    "colab_type": "code",
    "id": "pMQ9B_UFRROv",
    "outputId": "6cb8b9d3-3287-4621-cff2-99c33fbe6598"
   },
   "outputs": [
    {
     "name": "stdout",
     "output_type": "stream",
     "text": [
      "Sequence 1 in x\n",
      "  Input:  [1 2 4 5 6 7 1 8 9]\n",
      "  Output: [1 2 4 5 6 7 1 8 9 0]\n",
      "Sequence 2 in x\n",
      "  Input:  [10 11 12  2 13 14 15 16  3 17]\n",
      "  Output: [10 11 12  2 13 14 15 16  3 17]\n",
      "Sequence 3 in x\n",
      "  Input:  [18 19  3 20 21]\n",
      "  Output: [18 19  3 20 21  0  0  0  0  0]\n"
     ]
    }
   ],
   "source": [
    "def pad(x, length=None):\n",
    "    \"\"\"\n",
    "    Pad x\n",
    "    :param x: List of sequences.\n",
    "    :param length: Length to pad the sequence to.  If None, use length of longest sequence in x.\n",
    "    :return: Padded numpy array of sequences\n",
    "    \"\"\"\n",
    "    \n",
    "    # If length equals None, set it to be the length of the longest sequence in x\n",
    "    if length == None:\n",
    "        length = len(max(x, key=len))\n",
    "        \n",
    "    # Use Keras's pad_sequences to pad the sequences with 0's\n",
    "    padded_sequences = pad_sequences(sequences=x, maxlen=length, padding='post', value=0)\n",
    "    \n",
    "    return padded_sequences\n",
    "\n",
    "tests.test_pad(pad)\n",
    "\n",
    "# Pad Tokenized output\n",
    "test_pad = pad(text_tokenized)\n",
    "for sample_i, (token_sent, pad_sent) in enumerate(zip(text_tokenized, test_pad)):\n",
    "    print('Sequence {} in x'.format(sample_i + 1))\n",
    "    print('  Input:  {}'.format(np.array(token_sent)))\n",
    "    print('  Output: {}'.format(pad_sent))"
   ]
  },
  {
   "cell_type": "markdown",
   "metadata": {
    "colab_type": "text",
    "id": "wBDkgUwsRROy"
   },
   "source": [
    "### Preprocess Pipeline\n",
    "Your focus for this project is to build neural network architecture, so we won't ask you to create a preprocess pipeline.  Instead, we've provided you with the implementation of the `preprocess` function."
   ]
  },
  {
   "cell_type": "code",
   "execution_count": 7,
   "metadata": {
    "colab": {
     "base_uri": "https://localhost:8080/",
     "height": 108
    },
    "colab_type": "code",
    "id": "H9EZqx9RRROz",
    "outputId": "d0c9d704-f0cd-4fd4-f51c-ad300b30474c"
   },
   "outputs": [
    {
     "name": "stdout",
     "output_type": "stream",
     "text": [
      "Data Preprocessed\n",
      "Max English sentence length: 15\n",
      "Max French sentence length: 21\n",
      "English vocabulary size: 199\n",
      "French vocabulary size: 345\n"
     ]
    }
   ],
   "source": [
    "def preprocess(x, y):\n",
    "    \"\"\"\n",
    "    Preprocess x and y\n",
    "    :param x: Feature List of sentences\n",
    "    :param y: Label List of sentences\n",
    "    :return: Tuple of (Preprocessed x, Preprocessed y, x tokenizer, y tokenizer)\n",
    "    \"\"\"\n",
    "    preprocess_x, x_tk = tokenize(x)\n",
    "    preprocess_y, y_tk = tokenize(y)\n",
    "\n",
    "    preprocess_x = pad(preprocess_x)\n",
    "    preprocess_y = pad(preprocess_y)\n",
    "\n",
    "    # Keras's sparse_categorical_crossentropy function requires the labels to be in 3 dimensions\n",
    "    preprocess_y = preprocess_y.reshape(*preprocess_y.shape, 1)\n",
    "\n",
    "    return preprocess_x, preprocess_y, x_tk, y_tk\n",
    "\n",
    "preproc_english_sentences, preproc_french_sentences, english_tokenizer, french_tokenizer =\\\n",
    "    preprocess(english_sentences, french_sentences)\n",
    "    \n",
    "max_english_sequence_length = preproc_english_sentences.shape[1]\n",
    "max_french_sequence_length = preproc_french_sentences.shape[1]\n",
    "english_vocab_size = len(english_tokenizer.word_index)\n",
    "french_vocab_size = len(french_tokenizer.word_index)\n",
    "\n",
    "print('Data Preprocessed')\n",
    "print(\"Max English sentence length:\", max_english_sequence_length)\n",
    "print(\"Max French sentence length:\", max_french_sequence_length)\n",
    "print(\"English vocabulary size:\", english_vocab_size)\n",
    "print(\"French vocabulary size:\", french_vocab_size)"
   ]
  },
  {
   "cell_type": "markdown",
   "metadata": {
    "colab_type": "text",
    "id": "s61hyJPdRRO3"
   },
   "source": [
    "### Extension - Split the data\n",
    "Use `sklearn.model_selection.train_test_split` to split the data into training and test sets.\n",
    "\n",
    "Note: `train_test_split` should be perferred on X and y data together, not seperately.\n",
    "\n",
    "For example,\n",
    "\n",
    "`train_test_split(X, y, test_size = 0.2, random_state = 42)`\n",
    "\n",
    "Do not split the data seperately (as seen as the commented out code in the below cell)."
   ]
  },
  {
   "cell_type": "code",
   "execution_count": 8,
   "metadata": {
    "colab": {},
    "colab_type": "code",
    "id": "mr3Aojf4RRO3"
   },
   "outputs": [],
   "source": [
    "### Split the unprocessed data into training and test sets using Sklearn ###\n",
    "\n",
    "english_sentences_train, english_sentences_test, french_sentences_train, french_sentences_test =\\\n",
    "    train_test_split(english_sentences, french_sentences, test_size=0.2, random_state=42)\n",
    "    \n",
    "    \n"
   ]
  },
  {
   "cell_type": "code",
   "execution_count": 9,
   "metadata": {
    "colab": {
     "base_uri": "https://localhost:8080/",
     "height": 181
    },
    "colab_type": "code",
    "id": "U1hBFl6IRRO6",
    "outputId": "4c57b84e-1d1f-4450-f536-dc6a75cfecd8"
   },
   "outputs": [
    {
     "name": "stdout",
     "output_type": "stream",
     "text": [
      "1458806 English words in the training set.\n",
      "227 unique English words in the training set.\n",
      "10 Most common words in the English training dataset:\n",
      "\"is\" \",\" \".\" \"in\" \"it\" \"during\" \"the\" \"but\" \"and\" \"sometimes\"\n",
      "\n",
      "1568964 French words in the training set.\n",
      "354 unique French words in the training set.\n",
      "10 Most common words in the French training dataset:\n",
      "\"est\" \".\" \",\" \"en\" \"il\" \"les\" \"mais\" \"et\" \"la\" \"parfois\"\n"
     ]
    }
   ],
   "source": [
    "# Calculate the training set stats\n",
    "\n",
    "english_train_words_counter = collections.Counter([word for sentence in english_sentences_train for word in sentence.split()])\n",
    "french_train_words_counter = collections.Counter([word for sentence in french_sentences_train for word in sentence.split()])\n",
    "\n",
    "print('{} English words in the training set.'.format(len([word for sentence in english_sentences_train for word in sentence.split()])))\n",
    "print('{} unique English words in the training set.'.format(len(english_train_words_counter)))\n",
    "print('10 Most common words in the English training dataset:')\n",
    "print('\"' + '\" \"'.join(list(zip(*english_train_words_counter.most_common(10)))[0]) + '\"')\n",
    "print()\n",
    "print('{} French words in the training set.'.format(len([word for sentence in french_sentences_train for word in sentence.split()])))\n",
    "print('{} unique French words in the training set.'.format(len(french_train_words_counter)))\n",
    "print('10 Most common words in the French training dataset:')\n",
    "print('\"' + '\" \"'.join(list(zip(*french_train_words_counter.most_common(10)))[0]) + '\"')"
   ]
  },
  {
   "cell_type": "code",
   "execution_count": 10,
   "metadata": {
    "colab": {
     "base_uri": "https://localhost:8080/",
     "height": 181
    },
    "colab_type": "code",
    "id": "GrGjiBp1RRO9",
    "outputId": "1a835fa8-a4f6-46bf-93d0-a18dc6572615"
   },
   "outputs": [
    {
     "name": "stdout",
     "output_type": "stream",
     "text": [
      "364444 English words in the test set.\n",
      "227 unique English words in the test set.\n",
      "10 Most common words in the English test dataset:\n",
      "\"is\" \",\" \".\" \"in\" \"it\" \"during\" \"the\" \"but\" \"and\" \"sometimes\"\n",
      "\n",
      "392331 French words in the test set.\n",
      "338 unique French words in the test set.\n",
      "10 Most common words in the French test dataset:\n",
      "\"est\" \".\" \",\" \"en\" \"il\" \"les\" \"mais\" \"et\" \"la\" \"parfois\"\n"
     ]
    }
   ],
   "source": [
    "# Calculate the test set stats\n",
    "\n",
    "english_test_words_counter = collections.Counter([word for sentence in english_sentences_test for word in sentence.split()])\n",
    "french_test_words_counter = collections.Counter([word for sentence in french_sentences_test for word in sentence.split()])\n",
    "\n",
    "print('{} English words in the test set.'.format(len([word for sentence in english_sentences_test for word in sentence.split()])))\n",
    "print('{} unique English words in the test set.'.format(len(english_test_words_counter)))\n",
    "print('10 Most common words in the English test dataset:')\n",
    "print('\"' + '\" \"'.join(list(zip(*english_test_words_counter.most_common(10)))[0]) + '\"')\n",
    "print()\n",
    "print('{} French words in the test set.'.format(len([word for sentence in french_sentences_test for word in sentence.split()])))\n",
    "print('{} unique French words in the test set.'.format(len(french_test_words_counter)))\n",
    "print('10 Most common words in the French test dataset:')\n",
    "print('\"' + '\" \"'.join(list(zip(*french_test_words_counter.most_common(10)))[0]) + '\"')"
   ]
  },
  {
   "cell_type": "markdown",
   "metadata": {
    "colab_type": "text",
    "id": "0nYvIu5xRRPA"
   },
   "source": [
    "### Preprocess the training data\n",
    "\n",
    "Use `preprocess` to process the training split of the data. "
   ]
  },
  {
   "cell_type": "code",
   "execution_count": 11,
   "metadata": {
    "colab": {
     "base_uri": "https://localhost:8080/",
     "height": 108
    },
    "colab_type": "code",
    "id": "lhNcb30CRRPA",
    "outputId": "b511278f-3a93-407e-9e2c-bbd1c1859b2b"
   },
   "outputs": [
    {
     "name": "stdout",
     "output_type": "stream",
     "text": [
      "Training Data Preprocessed\n",
      "Max English train dataset sentence length: 15\n",
      "Max French train dataset sentence length: 21\n",
      "English train dataset vocabulary size: 199\n",
      "French train dataset vocabulary size: 344\n"
     ]
    }
   ],
   "source": [
    "# Preprocess the training split of the data\n",
    "\n",
    "preproc_english_sentences_train, preproc_french_sentences_train, english_tokenizer_train, french_tokenizer_train =\\\n",
    "    preprocess(english_sentences_train, french_sentences_train)\n",
    "    \n",
    "max_english_sequence_length_train = preproc_english_sentences_train.shape[1]\n",
    "max_french_sequence_length_train = preproc_french_sentences_train.shape[1]\n",
    "english_vocab_size_train = len(english_tokenizer_train.word_index)\n",
    "french_vocab_size_train = len(french_tokenizer_train.word_index)\n",
    "\n",
    "print('Training Data Preprocessed')\n",
    "print(\"Max English train dataset sentence length:\", max_english_sequence_length_train)\n",
    "print(\"Max French train dataset sentence length:\", max_french_sequence_length_train)\n",
    "print(\"English train dataset vocabulary size:\", english_vocab_size_train)\n",
    "print(\"French train dataset vocabulary size:\", french_vocab_size_train)"
   ]
  },
  {
   "cell_type": "markdown",
   "metadata": {
    "colab_type": "text",
    "id": "7F8k7XYBRRPE"
   },
   "source": [
    "### Preprocess the training data\n",
    "\n",
    "Use `preprocess` to process the test split of the data. "
   ]
  },
  {
   "cell_type": "code",
   "execution_count": 12,
   "metadata": {
    "colab": {
     "base_uri": "https://localhost:8080/",
     "height": 126
    },
    "colab_type": "code",
    "id": "o17DCO5ERRPF",
    "outputId": "e4b354c0-4227-4f6a-e872-8b4d58d71a5f"
   },
   "outputs": [
    {
     "name": "stdout",
     "output_type": "stream",
     "text": [
      "Test Data Preprocessed\n",
      "Max English test dataset sentence length: 15\n",
      "Max French test dataset sentence length: 20\n",
      "English test datset vocab size: 199\n",
      "French test dataset vocab size 327\n",
      "(27573, 20, 1)\n"
     ]
    }
   ],
   "source": [
    "# Preprocess the test split of the data \n",
    "\n",
    "preproc_english_sentences_test, preproc_french_sentences_test, english_tokenizer_test, french_tokenizer_test =\\\n",
    "    preprocess(english_sentences_test, french_sentences_test)\n",
    "    \n",
    "max_english_sequence_length_test = preproc_english_sentences_test.shape[1]\n",
    "max_french_sequence_length_test = preproc_french_sentences_test.shape[1]\n",
    "english_vocab_size_test = len(english_tokenizer_test.word_index)\n",
    "french_vocab_size_test = len(french_tokenizer_test.word_index)\n",
    "\n",
    "print('Test Data Preprocessed')\n",
    "print('Max English test dataset sentence length:', max_english_sequence_length_test)\n",
    "print('Max French test dataset sentence length:', max_french_sequence_length_test)\n",
    "print('English test datset vocab size:', english_vocab_size_test)\n",
    "print('French test dataset vocab size', french_vocab_size_test)\n",
    "print(preproc_french_sentences_test.shape)"
   ]
  },
  {
   "cell_type": "markdown",
   "metadata": {
    "colab_type": "text",
    "id": "2br7gRmMRRPI"
   },
   "source": [
    "## Models\n",
    "In this section, you will experiment with various neural network architectures.\n",
    "You will begin by training four relatively simple architectures.\n",
    "- Model 1 is a simple RNN\n",
    "- Model 2 is a RNN with Embedding\n",
    "- Model 3 is a Bidirectional RNN\n",
    "- Model 4 is an Encoder-Decoder RNN\n",
    "\n",
    "After experimenting with the four simple architectures, you will construct a deeper architecture that is designed to outperform all four models.\n",
    "### Ids Back to Text\n",
    "The neural network will be translating the input to words ids, which isn't the final form we want.  We want the French translation.  The function `logits_to_text` will bridge the gab between the logits from the neural network to the French translation.  You'll be using this function to better understand the output of the neural network."
   ]
  },
  {
   "cell_type": "code",
   "execution_count": 13,
   "metadata": {
    "colab": {
     "base_uri": "https://localhost:8080/",
     "height": 35
    },
    "colab_type": "code",
    "id": "ZYXi_uT_RRPJ",
    "outputId": "50373cd5-6302-4a72-c282-704fcd11ced6"
   },
   "outputs": [
    {
     "name": "stdout",
     "output_type": "stream",
     "text": [
      "`logits_to_text` function loaded.\n"
     ]
    }
   ],
   "source": [
    "def logits_to_text(logits, tokenizer):\n",
    "    \"\"\"\n",
    "    Turn logits from a neural network into text using the tokenizer\n",
    "    :param logits: Logits from a neural network\n",
    "    :param tokenizer: Keras Tokenizer fit on the labels\n",
    "    :return: String that represents the text of the logits\n",
    "    \"\"\"\n",
    "    index_to_words = {id: word for word, id in tokenizer.word_index.items()}\n",
    "    index_to_words[0] = '<PAD>'\n",
    "\n",
    "    return ' '.join([index_to_words[prediction] for prediction in np.argmax(logits, 1)])\n",
    "\n",
    "print('`logits_to_text` function loaded.')"
   ]
  },
  {
   "cell_type": "markdown",
   "metadata": {
    "colab_type": "text",
    "id": "SntaP0ZfRRPM"
   },
   "source": [
    "### Model 1: RNN (IMPLEMENTATION)\n",
    "![RNN](images/rnn.png)\n",
    "A basic RNN model is a good baseline for sequence data.  In this model, you'll build a RNN that translates English to French."
   ]
  },
  {
   "cell_type": "code",
   "execution_count": 14,
   "metadata": {
    "colab": {
     "base_uri": "https://localhost:8080/",
     "height": 783
    },
    "colab_type": "code",
    "id": "b0ylPiFnRRPN",
    "outputId": "8e48cdda-5af5-4a2d-c5ed-f0a0b1ab668e"
   },
   "outputs": [
    {
     "name": "stdout",
     "output_type": "stream",
     "text": [
      "Epoch 1/20\n",
      "209/209 [==============================] - 122s 582ms/step - loss: 1.8143 - accuracy: 0.5629 - val_loss: 1.3701 - val_accuracy: 0.6205\n",
      "Epoch 2/20\n",
      "209/209 [==============================] - 121s 579ms/step - loss: 1.2667 - accuracy: 0.6428 - val_loss: 1.1899 - val_accuracy: 0.6581\n",
      "Epoch 3/20\n",
      "209/209 [==============================] - 124s 593ms/step - loss: 1.1387 - accuracy: 0.6682 - val_loss: 1.0893 - val_accuracy: 0.6725\n",
      "Epoch 4/20\n",
      "209/209 [==============================] - 123s 586ms/step - loss: 1.0625 - accuracy: 0.6809 - val_loss: 1.0448 - val_accuracy: 0.6845\n",
      "Epoch 5/20\n",
      "209/209 [==============================] - 123s 587ms/step - loss: 1.0145 - accuracy: 0.6879 - val_loss: 0.9822 - val_accuracy: 0.6950\n",
      "Epoch 6/20\n",
      "209/209 [==============================] - 122s 585ms/step - loss: 0.9780 - accuracy: 0.6946 - val_loss: 1.0082 - val_accuracy: 0.6831\n",
      "Epoch 7/20\n",
      "209/209 [==============================] - 123s 589ms/step - loss: 0.9584 - accuracy: 0.6973 - val_loss: 0.9226 - val_accuracy: 0.7077\n",
      "Epoch 8/20\n",
      "209/209 [==============================] - 125s 596ms/step - loss: 0.9233 - accuracy: 0.7043 - val_loss: 0.9275 - val_accuracy: 0.7014\n",
      "Epoch 9/20\n",
      "209/209 [==============================] - 121s 578ms/step - loss: 0.9068 - accuracy: 0.7069 - val_loss: 0.8909 - val_accuracy: 0.7126\n",
      "Epoch 10/20\n",
      "209/209 [==============================] - 127s 608ms/step - loss: 0.8983 - accuracy: 0.7069 - val_loss: 0.8715 - val_accuracy: 0.7140\n",
      "Epoch 11/20\n",
      "209/209 [==============================] - 124s 593ms/step - loss: 0.8799 - accuracy: 0.7108 - val_loss: 0.8542 - val_accuracy: 0.7234\n",
      "Epoch 12/20\n",
      "209/209 [==============================] - 120s 574ms/step - loss: 0.8621 - accuracy: 0.7159 - val_loss: 0.8356 - val_accuracy: 0.7263\n",
      "Epoch 13/20\n",
      "209/209 [==============================] - 119s 569ms/step - loss: 0.8458 - accuracy: 0.7213 - val_loss: 0.8342 - val_accuracy: 0.7260\n",
      "Epoch 14/20\n",
      "209/209 [==============================] - 119s 568ms/step - loss: 0.8322 - accuracy: 0.7253 - val_loss: 0.8490 - val_accuracy: 0.7199\n",
      "Epoch 15/20\n",
      "209/209 [==============================] - 118s 567ms/step - loss: 0.8571 - accuracy: 0.7172 - val_loss: 0.8336 - val_accuracy: 0.7231\n",
      "Epoch 16/20\n",
      "209/209 [==============================] - 123s 588ms/step - loss: 0.8324 - accuracy: 0.7216 - val_loss: 0.8621 - val_accuracy: 0.7084\n",
      "Epoch 17/20\n",
      "209/209 [==============================] - 121s 579ms/step - loss: 0.8125 - accuracy: 0.7300 - val_loss: 0.8007 - val_accuracy: 0.7302\n",
      "Epoch 18/20\n",
      "209/209 [==============================] - 124s 591ms/step - loss: 0.7972 - accuracy: 0.7344 - val_loss: 0.8319 - val_accuracy: 0.7164\n",
      "Epoch 19/20\n",
      "209/209 [==============================] - 123s 588ms/step - loss: 0.7880 - accuracy: 0.7364 - val_loss: 0.7778 - val_accuracy: 0.7412\n",
      "Epoch 20/20\n",
      "209/209 [==============================] - 127s 606ms/step - loss: 0.7881 - accuracy: 0.7372 - val_loss: 0.7563 - val_accuracy: 0.7515\n",
      "new jersey est parfois chaud en l'automne de l' est beau en avril <PAD> <PAD> <PAD> <PAD> <PAD> <PAD> <PAD> <PAD>\n"
     ]
    }
   ],
   "source": [
    "def simple_model(input_shape, output_sequence_length, english_vocab_size, french_vocab_size):\n",
    "    \"\"\"\n",
    "    Build and train a basic RNN on x and y\n",
    "    :param input_shape: Tuple of input shape\n",
    "    :param output_sequence_length: Length of output sequence\n",
    "    :param english_vocab_size: Number of unique English words in the dataset\n",
    "    :param french_vocab_size: Number of unique French words in the dataset\n",
    "    :return: Keras model built, but not trained\n",
    "    \"\"\"\n",
    "    # TODO: Build the layers\n",
    "    \n",
    "    # Input layer\n",
    "    input_layer = Input(shape=input_shape[1:])\n",
    "    \n",
    "    # GRU Layer\n",
    "    x = GRU(output_sequence_length, return_sequences=True)(input_layer)\n",
    "    \n",
    "    # Fully-connected Layer\n",
    "    x = Dense(french_vocab_size*4, activation='relu')(x)\n",
    "    \n",
    "    # Output Layer\n",
    "    output_layer = Dense(french_vocab_size, activation='softmax')(x)\n",
    "    \n",
    "    # Create model\n",
    "    model = Model(inputs=input_layer, outputs=output_layer)\n",
    "    \n",
    "    # Compile the model\n",
    "    model.compile(loss=sparse_categorical_crossentropy,\n",
    "                  optimizer=Adam(lr = 0.01),\n",
    "                  metrics=['accuracy'])\n",
    "    return model\n",
    "\n",
    "\n",
    "# Reshaping the input to work with a basic RNN\n",
    "tmp_x = pad(preproc_english_sentences, max_french_sequence_length)\n",
    "tmp_x = tmp_x.reshape((-1, preproc_french_sentences.shape[-2], 1))\n",
    "\n",
    "# Train the model on the training set\n",
    "simple_rnn_model = simple_model(\n",
    "    tmp_x.shape,\n",
    "    max_french_sequence_length,\n",
    "    english_vocab_size + 1,\n",
    "    french_vocab_size + 1)\n",
    "\n",
    "simple_rnn_model.fit(tmp_x, preproc_french_sentences, batch_size=528, epochs=20, validation_split=0.2)\n",
    "\n",
    "# Print prediction(s)\n",
    "print(logits_to_text(simple_rnn_model.predict(tmp_x[:1])[0], french_tokenizer))"
   ]
  },
  {
   "cell_type": "markdown",
   "metadata": {
    "colab_type": "text",
    "id": "QS4UYlsbRRPR"
   },
   "source": [
    "### Train the simple model on the training data set\n",
    "\n",
    "Use the same model as above on the training data split to see how it performs on the training split of the data."
   ]
  },
  {
   "cell_type": "code",
   "execution_count": 15,
   "metadata": {
    "colab": {
     "base_uri": "https://localhost:8080/",
     "height": 419
    },
    "colab_type": "code",
    "id": "R3riKUmZRRPR",
    "outputId": "9110a6c5-54d5-4553-a830-53f1c5ddf43d"
   },
   "outputs": [
    {
     "name": "stdout",
     "output_type": "stream",
     "text": [
      "Epoch 1/10\n",
      "442/442 [==============================] - 193s 437ms/step - loss: 1.2439 - accuracy: 0.6520 - val_loss: 0.9766 - val_accuracy: 0.6846\n",
      "Epoch 2/10\n",
      "442/442 [==============================] - 179s 405ms/step - loss: 0.8285 - accuracy: 0.7299 - val_loss: 0.7534 - val_accuracy: 0.7524\n",
      "Epoch 3/10\n",
      "442/442 [==============================] - 183s 414ms/step - loss: 0.7300 - accuracy: 0.7547 - val_loss: 0.7007 - val_accuracy: 0.7589\n",
      "Epoch 4/10\n",
      "442/442 [==============================] - 188s 426ms/step - loss: 0.6680 - accuracy: 0.7714 - val_loss: 0.6421 - val_accuracy: 0.7787\n",
      "Epoch 5/10\n",
      "442/442 [==============================] - 186s 421ms/step - loss: 0.6266 - accuracy: 0.7850 - val_loss: 0.5951 - val_accuracy: 0.7951\n",
      "Epoch 6/10\n",
      "442/442 [==============================] - 181s 410ms/step - loss: 0.5994 - accuracy: 0.7948 - val_loss: 0.6451 - val_accuracy: 0.7788\n",
      "Epoch 7/10\n",
      "442/442 [==============================] - 191s 432ms/step - loss: 0.5679 - accuracy: 0.8032 - val_loss: 0.5806 - val_accuracy: 0.7990\n",
      "Epoch 8/10\n",
      "442/442 [==============================] - 182s 411ms/step - loss: 0.5468 - accuracy: 0.8103 - val_loss: 0.5198 - val_accuracy: 0.8207\n",
      "Epoch 9/10\n",
      "442/442 [==============================] - 182s 413ms/step - loss: 0.5313 - accuracy: 0.8153 - val_loss: 0.5332 - val_accuracy: 0.8169\n",
      "Epoch 10/10\n",
      "442/442 [==============================] - 186s 421ms/step - loss: 0.5271 - accuracy: 0.8174 - val_loss: 0.9118 - val_accuracy: 0.7435\n",
      "l' inde est le gel habituellement en janvier et il est jamais agrã©able ã  l' automne <PAD> <PAD> <PAD> <PAD> <PAD>\n"
     ]
    }
   ],
   "source": [
    "### Try the simple_model on the training split of the dataset\n",
    "\n",
    "def simple_model_split(input_shape, output_sequence_length, english_vocab_size, french_vocab_size):\n",
    "    \"\"\"\n",
    "    Build and train a basic RNN on x and y\n",
    "    :param input_shape: Tuple of input shape\n",
    "    :param output_sequence_length: Length of output sequence\n",
    "    :param english_vocab_size: Number of unique English words in the dataset\n",
    "    :param french_vocab_size: Number of unique French words in the dataset\n",
    "    :return: Keras model built, but not trained\n",
    "    \"\"\"\n",
    "    # Build the layers\n",
    "    \n",
    "    # Input layer\n",
    "    input_layer = Input(shape=input_shape[1:])\n",
    "    \n",
    "    # GRU Layer\n",
    "    x = GRU(256, return_sequences=True)(input_layer)\n",
    "    \n",
    "    # Fully-connected Layer\n",
    "    x = Dense(french_vocab_size*4, activation='relu')(x)\n",
    "    \n",
    "    # Output Layer\n",
    "    output_layer = TimeDistributed(Dense(french_vocab_size, activation='softmax'))(x)\n",
    "    \n",
    "    # Create model\n",
    "    model = Model(inputs=input_layer, outputs=output_layer)\n",
    "    \n",
    "    # Compile the model\n",
    "    model.compile(loss=sparse_categorical_crossentropy,\n",
    "                  optimizer=Adam(lr = 0.01),\n",
    "                  metrics=['accuracy'])\n",
    "    return model\n",
    "\n",
    "# Reshaping the input to work with a basic RNN\n",
    "tmp_x = pad(preproc_english_sentences_train, max_french_sequence_length_train)\n",
    "tmp_x = tmp_x.reshape((-1, preproc_french_sentences_train.shape[-2], 1))\n",
    "\n",
    "# Train the model on the training set\n",
    "simple_rnn_model_split = simple_model_split(\n",
    "    tmp_x.shape,\n",
    "    max_french_sequence_length_train,\n",
    "    english_vocab_size_train + 1,\n",
    "    french_vocab_size_train + 1)\n",
    "\n",
    "simple_rnn_model_split.fit(tmp_x, preproc_french_sentences_train, batch_size=200, epochs=10, validation_split=0.2)\n",
    "\n",
    "# Print prediction(s)\n",
    "print(logits_to_text(simple_rnn_model_split.predict(tmp_x[:1])[0], french_tokenizer_train))"
   ]
  },
  {
   "cell_type": "markdown",
   "metadata": {
    "colab_type": "text",
    "id": "nH-GjHODRRPU"
   },
   "source": [
    "### Test the simple model on the test data set\n",
    "\n",
    "See how the model trained on the training set data performs on the unseen test data."
   ]
  },
  {
   "cell_type": "code",
   "execution_count": 16,
   "metadata": {
    "colab": {
     "base_uri": "https://localhost:8080/",
     "height": 35
    },
    "colab_type": "code",
    "id": "v2b9iRGARRPU",
    "outputId": "492a2cc6-33ee-4097-9f49-3a2db9be2ecc"
   },
   "outputs": [
    {
     "name": "stdout",
     "output_type": "stream",
     "text": [
      "Simple model accuracy on unseen test dataset: 39.36%\n"
     ]
    }
   ],
   "source": [
    "### Evaluate the model on the test set ###\n",
    "\n",
    "# Reshape the test data \n",
    "test_x = pad(preproc_english_sentences_test, max_french_sequence_length_test)\n",
    "test_x = test_x.reshape((-1, preproc_french_sentences_train.shape[-2], 1))\n",
    "\n",
    "# Rehsape the test label data to fit the model\n",
    "preproc_french_sentences_test = preproc_french_sentences_test.reshape((-1, preproc_french_sentences_train.shape[-2], 1))\n",
    "\n",
    "# Evaluate the model on the unseen test data\n",
    "simple_rnn_model_score = simple_rnn_model_split.evaluate(test_x, preproc_french_sentences_test, verbose=0)\n",
    "\n",
    "print(\"Simple model accuracy on unseen test dataset: {0:.2f}%\".format(simple_rnn_model_score[1]*100))"
   ]
  },
  {
   "cell_type": "markdown",
   "metadata": {
    "colab_type": "text",
    "id": "zqVTttvCRRPY"
   },
   "source": [
    "### Model 2: Embedding (IMPLEMENTATION)\n",
    "![RNN](images/embedding.png)\n",
    "You've turned the words into ids, but there's a better representation of a word.  This is called word embeddings.  An embedding is a vector representation of the word that is close to similar words in n-dimensional space, where the n represents the size of the embedding vectors.\n",
    "\n",
    "In this model, you'll create a RNN model using embedding."
   ]
  },
  {
   "cell_type": "code",
   "execution_count": 17,
   "metadata": {
    "colab": {
     "base_uri": "https://localhost:8080/",
     "height": 419
    },
    "colab_type": "code",
    "id": "mBs1sZidRRPZ",
    "outputId": "cfe8b817-91ec-4a36-dd43-b6479116377e"
   },
   "outputs": [
    {
     "name": "stdout",
     "output_type": "stream",
     "text": [
      "Epoch 1/10\n",
      "108/108 [==============================] - 450s 4s/step - loss: 7.9308 - accuracy: 0.3199 - val_loss: 5.6051 - val_accuracy: 0.4930\n",
      "Epoch 2/10\n",
      "108/108 [==============================] - 452s 4s/step - loss: 1.3273 - accuracy: 0.7267 - val_loss: 0.7896 - val_accuracy: 0.8048\n",
      "Epoch 3/10\n",
      "108/108 [==============================] - 447s 4s/step - loss: 0.6796 - accuracy: 0.8321 - val_loss: 0.6047 - val_accuracy: 0.8529\n",
      "Epoch 4/10\n",
      "108/108 [==============================] - 453s 4s/step - loss: 0.5416 - accuracy: 0.8702 - val_loss: 0.5009 - val_accuracy: 0.8843\n",
      "Epoch 5/10\n",
      "108/108 [==============================] - 450s 4s/step - loss: 0.4695 - accuracy: 0.8917 - val_loss: 0.4478 - val_accuracy: 0.8973\n",
      "Epoch 6/10\n",
      "108/108 [==============================] - 458s 4s/step - loss: 0.4311 - accuracy: 0.9026 - val_loss: 0.4332 - val_accuracy: 0.9029\n",
      "Epoch 7/10\n",
      "108/108 [==============================] - 492s 5s/step - loss: 0.4046 - accuracy: 0.9102 - val_loss: 0.3964 - val_accuracy: 0.9114\n",
      "Epoch 8/10\n",
      "108/108 [==============================] - 535s 5s/step - loss: 0.3683 - accuracy: 0.9151 - val_loss: 0.3590 - val_accuracy: 0.9174\n",
      "Epoch 9/10\n",
      "108/108 [==============================] - 636s 6s/step - loss: 0.3438 - accuracy: 0.9193 - val_loss: 0.3492 - val_accuracy: 0.9192\n",
      "Epoch 10/10\n",
      "108/108 [==============================] - 613s 6s/step - loss: 0.3406 - accuracy: 0.9202 - val_loss: 0.5763 - val_accuracy: 0.8498\n",
      "new jersey est parfois calme en l' automne il il neigeux en en avril <PAD> <PAD> <PAD> <PAD> <PAD> <PAD> <PAD>\n"
     ]
    }
   ],
   "source": [
    "### Embedding model trained on entire dataset ###\n",
    "\n",
    "def embed_model(input_shape, output_sequence_length, english_vocab_size, french_vocab_size):\n",
    "    \"\"\"\n",
    "    Build and train a RNN model using word embedding on x and y\n",
    "    :param input_shape: Tuple of input shape\n",
    "    :param output_sequence_length: Length of output sequence\n",
    "    :param english_vocab_size: Number of unique English words in the dataset\n",
    "    :param french_vocab_size: Number of unique French words in the dataset\n",
    "    :return: Keras model built, but not trained\n",
    "    \"\"\"\n",
    "    #  Implement\n",
    "    \n",
    "    # RNN model with embedding layer\n",
    "    input_layer = Input(shape=input_shape[1:])\n",
    "    embedding_layer = Embedding(512, english_vocab_size)(input_layer)\n",
    "    x = GRU(512, return_sequences=True)(embedding_layer)\n",
    "    x = TimeDistributed(Dense(french_vocab_size*4, activation='relu'))(x)\n",
    "    output_layer = Dense(french_vocab_size, activation='softmax')(x)\n",
    "    \n",
    "    model = Model(inputs=input_layer, outputs=output_layer)\n",
    "    \n",
    "    # Compile the model\n",
    "    learning_rate = 0.01\n",
    "    model.compile(loss=sparse_categorical_crossentropy,\n",
    "                  optimizer=Adam(learning_rate),\n",
    "                  metrics=['accuracy'])\n",
    "    return model\n",
    "\n",
    "# Test the model\n",
    "\n",
    "\n",
    "#  Pad the input \n",
    "tmp_x = pad(preproc_english_sentences, preproc_french_sentences.shape[1])\n",
    "\n",
    "# Train the neural network on the training data\n",
    "embedding_rnn_model = embed_model(\n",
    "    tmp_x.shape,\n",
    "    max_french_sequence_length,\n",
    "    english_vocab_size + 1,\n",
    "    french_vocab_size + 1)\n",
    "embedding_rnn_model.fit(tmp_x, preproc_french_sentences, batch_size=1024, epochs=10, validation_split=0.2)\n",
    "\n",
    "# TODO: Print prediction(s)\n",
    "print(logits_to_text(embedding_rnn_model.predict(tmp_x[:1])[0], french_tokenizer))"
   ]
  },
  {
   "cell_type": "markdown",
   "metadata": {
    "colab_type": "text",
    "id": "0d-x03tcRRPb"
   },
   "source": [
    "### Train the embedding model on the training data set\n",
    "\n",
    "Use the same model as above on the training data split to see how it performs on the training split of the data."
   ]
  },
  {
   "cell_type": "code",
   "execution_count": 18,
   "metadata": {
    "colab": {
     "base_uri": "https://localhost:8080/",
     "height": 437
    },
    "colab_type": "code",
    "id": "F7GIu85_RRPc",
    "outputId": "b980e1f9-c696-4de2-c7af-fcc8d7dbe353"
   },
   "outputs": [
    {
     "name": "stdout",
     "output_type": "stream",
     "text": [
      "Epoch 1/10\n",
      "87/87 [==============================] - 378s 4s/step - loss: 11.0263 - accuracy: 0.2738 - val_loss: 9.0424 - val_accuracy: 0.4386\n",
      "Epoch 2/10\n",
      "87/87 [==============================] - 364s 4s/step - loss: 9.0100 - accuracy: 0.4397 - val_loss: 8.9809 - val_accuracy: 0.4418\n",
      "Epoch 3/10\n",
      "87/87 [==============================] - 362s 4s/step - loss: 8.9985 - accuracy: 0.4405 - val_loss: 8.9763 - val_accuracy: 0.4421\n",
      "Epoch 4/10\n",
      "87/87 [==============================] - 362s 4s/step - loss: 8.9945 - accuracy: 0.4407 - val_loss: 8.9726 - val_accuracy: 0.4424\n",
      "Epoch 5/10\n",
      "87/87 [==============================] - 376s 4s/step - loss: 8.9941 - accuracy: 0.4407 - val_loss: 8.9753 - val_accuracy: 0.4422\n",
      "Epoch 6/10\n",
      "87/87 [==============================] - 365s 4s/step - loss: 8.9901 - accuracy: 0.4409 - val_loss: 8.9607 - val_accuracy: 0.4411\n",
      "Epoch 7/10\n",
      "87/87 [==============================] - 378s 4s/step - loss: 8.9779 - accuracy: 0.4418 - val_loss: 8.9568 - val_accuracy: 0.4434\n",
      "Epoch 8/10\n",
      "87/87 [==============================] - 366s 4s/step - loss: 8.9748 - accuracy: 0.4420 - val_loss: 8.9554 - val_accuracy: 0.4434\n",
      "Epoch 9/10\n",
      "87/87 [==============================] - 353s 4s/step - loss: 8.9745 - accuracy: 0.4422 - val_loss: 8.9573 - val_accuracy: 0.4433\n",
      "Epoch 10/10\n",
      "87/87 [==============================] - 357s 4s/step - loss: 8.9773 - accuracy: 0.4420 - val_loss: 8.9605 - val_accuracy: 0.4418\n",
      "l' est est est est est est est est est est est est est est <PAD> <PAD> <PAD> <PAD> <PAD> <PAD>\n"
     ]
    }
   ],
   "source": [
    "### Train the embedding model on the training dataset ###\n",
    "\n",
    "def embed_model_split(input_shape, output_sequence_length, english_vocab_size, french_vocab_size):\n",
    "    \"\"\"\n",
    "    Build and train a RNN model using word embedding on x and y\n",
    "    :param input_shape: Tuple of input shape\n",
    "    :param output_sequence_length: Length of output sequence\n",
    "    :param english_vocab_size: Number of unique English words in the dataset\n",
    "    :param french_vocab_size: Number of unique French words in the dataset\n",
    "    :return: Keras model built, but not trained\n",
    "    \"\"\"\n",
    "    # Implement\n",
    "    \n",
    "    # RNN model with embedding layer\n",
    "    input_layer = Input(shape=input_shape[1:])\n",
    "    embedding_layer = Embedding(512, english_vocab_size)(input_layer)\n",
    "    x = GRU(512, return_sequences=True)(embedding_layer)\n",
    "    x = TimeDistributed(Dense(french_vocab_size*4, activation='relu'))(x)\n",
    "    output_layer = Dense(french_vocab_size, activation='softmax')(x)\n",
    "    \n",
    "    model = Model(inputs=input_layer, outputs=output_layer)\n",
    "    \n",
    "    # Compile the model\n",
    "    learning_rate = 0.01\n",
    "    model.compile(loss=sparse_categorical_crossentropy,\n",
    "                  optimizer=Adam(learning_rate),\n",
    "                  metrics=['accuracy'])\n",
    "    return model\n",
    "\n",
    "# Pad the input \n",
    "tmp_x = pad(preproc_english_sentences_train, preproc_french_sentences_train.shape[1])\n",
    "\n",
    "# Train the neural network on the training data\n",
    "embedding_model_split_train = embed_model_split(tmp_x.shape,\n",
    "                                  max_french_sequence_length_train,\n",
    "                                  english_vocab_size_train + 1,\n",
    "                                  french_vocab_size_train + 1)\n",
    "\n",
    "embedding_model_split_train.fit(tmp_x, preproc_french_sentences_train, batch_size=1024, epochs=10, validation_split=0.2)\n",
    "\n",
    "# Print prediction(s)\n",
    "print(logits_to_text(embedding_model_split_train.predict(tmp_x[:1])[0], french_tokenizer_train))"
   ]
  },
  {
   "cell_type": "markdown",
   "metadata": {
    "colab_type": "text",
    "id": "hzThPn7TRRPe"
   },
   "source": [
    "### Test the embedding model on the test data set\n",
    "\n",
    "See how the model trained on the training set data performs on the unseen test data."
   ]
  },
  {
   "cell_type": "code",
   "execution_count": 19,
   "metadata": {
    "colab": {
     "base_uri": "https://localhost:8080/",
     "height": 35
    },
    "colab_type": "code",
    "id": "ST4yjV4sRRPf",
    "outputId": "1aa3c9f0-47e9-4a2a-fdf2-70b1219db27e"
   },
   "outputs": [
    {
     "name": "stdout",
     "output_type": "stream",
     "text": [
      "Embedding model accuracy on unseen test data: 38.70%\n"
     ]
    }
   ],
   "source": [
    "### Evaluate the embedding model on the unseen test data ###\n",
    "\n",
    "test_x = pad(preproc_english_sentences_test, max_french_sequence_length_test)\n",
    "test_x = test_x.reshape((-1, preproc_french_sentences_train.shape[-2]))\n",
    "\n",
    "embedding_model_score = embedding_model_split_train.evaluate(test_x, preproc_french_sentences_test, verbose=0)\n",
    "\n",
    "print(\"Embedding model accuracy on unseen test data: {0:.2f}%\".format(embedding_model_score[1]*100))"
   ]
  },
  {
   "cell_type": "markdown",
   "metadata": {
    "colab_type": "text",
    "id": "PIWnRDwBRRPm"
   },
   "source": [
    "### Model 3: Bidirectional RNNs (IMPLEMENTATION)\n",
    "![RNN](images/bidirectional.png)\n",
    "One restriction of a RNN is that it can't see the future input, only the past.  This is where bidirectional recurrent neural networks come in.  They are able to see the future data."
   ]
  },
  {
   "cell_type": "code",
   "execution_count": 20,
   "metadata": {
    "colab": {
     "base_uri": "https://localhost:8080/",
     "height": 492
    },
    "colab_type": "code",
    "id": "hCwadHkaRRPn",
    "outputId": "e9cebd9e-235b-4ca4-9c0f-c147bb109352"
   },
   "outputs": [
    {
     "name": "stdout",
     "output_type": "stream",
     "text": [
      "Epoch 1/10\n",
      "108/108 [==============================] - 642s 6s/step - loss: 1.7893 - accuracy: 0.5865 - val_loss: 1.1286 - val_accuracy: 0.6603\n",
      "Epoch 2/10\n",
      "108/108 [==============================] - 604s 6s/step - loss: 1.0620 - accuracy: 0.6723 - val_loss: 0.9797 - val_accuracy: 0.6820\n",
      "Epoch 3/10\n",
      "108/108 [==============================] - 604s 6s/step - loss: 0.9634 - accuracy: 0.6875 - val_loss: 0.8874 - val_accuracy: 0.7059\n",
      "Epoch 4/10\n",
      "108/108 [==============================] - 611s 6s/step - loss: 0.9080 - accuracy: 0.6979 - val_loss: 0.8778 - val_accuracy: 0.6995\n",
      "Epoch 5/10\n",
      "108/108 [==============================] - 609s 6s/step - loss: 0.8844 - accuracy: 0.7022 - val_loss: 0.8589 - val_accuracy: 0.7012\n",
      "Epoch 6/10\n",
      "108/108 [==============================] - 613s 6s/step - loss: 0.8420 - accuracy: 0.7149 - val_loss: 0.7492 - val_accuracy: 0.7447\n",
      "Epoch 7/10\n",
      "108/108 [==============================] - 618s 6s/step - loss: 0.8030 - accuracy: 0.7284 - val_loss: 0.7812 - val_accuracy: 0.7259\n",
      "Epoch 8/10\n",
      "108/108 [==============================] - 620s 6s/step - loss: 0.7725 - accuracy: 0.7365 - val_loss: 0.7323 - val_accuracy: 0.7360\n",
      "Epoch 9/10\n",
      "108/108 [==============================] - 618s 6s/step - loss: 0.7559 - accuracy: 0.7412 - val_loss: 0.6751 - val_accuracy: 0.7673\n",
      "Epoch 10/10\n",
      "108/108 [==============================] - 620s 6s/step - loss: 0.7450 - accuracy: 0.7440 - val_loss: 0.6751 - val_accuracy: 0.7645\n",
      "WARNING:tensorflow:5 out of the last 5 calls to <function Model.make_predict_function.<locals>.predict_function at 0x000001E90C3A7280> triggered tf.function retracing. Tracing is expensive and the excessive number of tracings could be due to (1) creating @tf.function repeatedly in a loop, (2) passing tensors with different shapes, (3) passing Python objects instead of tensors. For (1), please define your @tf.function outside of the loop. For (2), @tf.function has experimental_relax_shapes=True option that relaxes argument shapes that can avoid unnecessary retracing. For (3), please refer to https://www.tensorflow.org/tutorials/customization/performance#python_or_tensor_args and https://www.tensorflow.org/api_docs/python/tf/function for  more details.\n",
      "new jersey est parfois chaud au mois de l' et il est en en <PAD> <PAD> <PAD> <PAD> <PAD> <PAD> <PAD>\n"
     ]
    }
   ],
   "source": [
    "def bd_model(input_shape, output_sequence_length, english_vocab_size, french_vocab_size):\n",
    "    \"\"\"\n",
    "    Build and train a bidirectional RNN model on x and y\n",
    "    :param input_shape: Tuple of input shape\n",
    "    :param output_sequence_length: Length of output sequence\n",
    "    :param english_vocab_size: Number of unique English words in the dataset\n",
    "    :param french_vocab_size: Number of unique French words in the dataset\n",
    "    :return: Keras model built, but not trained\n",
    "    \"\"\"\n",
    "    # Implement\n",
    "    \n",
    "    # Build the bidirectional RNN model\n",
    "    input_layer = Input(shape=input_shape[1:])\n",
    "    x = Bidirectional(GRU(512, return_sequences=True, recurrent_dropout=0.2))(input_layer)\n",
    "    x = Dense(french_vocab_size*2, activation='relu')(x)\n",
    "    output_layer = TimeDistributed(Dense(french_vocab_size, activation='softmax'))(x)\n",
    "    \n",
    "    model = Model(inputs=input_layer, outputs=output_layer)\n",
    "    \n",
    "    # Compile the model\n",
    "    learning_rate = 0.01\n",
    "    model.compile(loss=sparse_categorical_crossentropy,\n",
    "                  optimizer=Adam(learning_rate),\n",
    "                  metrics=['accuracy'])\n",
    "    \n",
    "    return model\n",
    "\n",
    "\n",
    "# Pad the input\n",
    "tmp_x = pad(preproc_english_sentences, max_french_sequence_length)\n",
    "tmp_x = tmp_x.reshape((-1, preproc_french_sentences.shape[-2], 1))\n",
    "\n",
    "# TODO: Train and Print prediction(s)\n",
    "\n",
    "# Train the model\n",
    "bidirectional_model = bd_model(tmp_x.shape,\n",
    "                               max_french_sequence_length,\n",
    "                               english_vocab_size + 1,\n",
    "                               french_vocab_size + 1)\n",
    "# Fit the model\n",
    "bidirectional_model.fit(tmp_x, preproc_french_sentences, batch_size=1024, epochs=10, validation_split=0.2)\n",
    "\n",
    "# Print out the predictions\n",
    "print(logits_to_text(bidirectional_model.predict(tmp_x[:1])[0], french_tokenizer))"
   ]
  },
  {
   "cell_type": "markdown",
   "metadata": {
    "colab_type": "text",
    "id": "r5W-zt0IRRPr"
   },
   "source": [
    "### Train the bidirectional model on the training data set\n",
    "\n",
    "Use the same model as above on the training data split to see how it performs."
   ]
  },
  {
   "cell_type": "code",
   "execution_count": 21,
   "metadata": {
    "colab": {
     "base_uri": "https://localhost:8080/",
     "height": 492
    },
    "colab_type": "code",
    "id": "JtePo5YaRRPr",
    "outputId": "c98a100e-7ca0-43d6-e2fa-4fcc261ed9b7"
   },
   "outputs": [
    {
     "name": "stdout",
     "output_type": "stream",
     "text": [
      "Epoch 1/10\n",
      "87/87 [==============================] - 449s 5s/step - loss: 2.0372 - accuracy: 0.5559 - val_loss: 1.4171 - val_accuracy: 0.6170\n",
      "Epoch 2/10\n",
      "87/87 [==============================] - 450s 5s/step - loss: 1.2890 - accuracy: 0.6407 - val_loss: 1.1842 - val_accuracy: 0.6554\n",
      "Epoch 3/10\n",
      "87/87 [==============================] - 448s 5s/step - loss: 1.1304 - accuracy: 0.6671 - val_loss: 1.0727 - val_accuracy: 0.6733\n",
      "Epoch 4/10\n",
      "87/87 [==============================] - 448s 5s/step - loss: 1.0410 - accuracy: 0.6831 - val_loss: 0.9840 - val_accuracy: 0.6969\n",
      "Epoch 5/10\n",
      "87/87 [==============================] - 450s 5s/step - loss: 0.9744 - accuracy: 0.6950 - val_loss: 0.9170 - val_accuracy: 0.7125\n",
      "Epoch 6/10\n",
      "87/87 [==============================] - 453s 5s/step - loss: 0.9169 - accuracy: 0.7094 - val_loss: 0.8842 - val_accuracy: 0.7214\n",
      "Epoch 7/10\n",
      "87/87 [==============================] - 457s 5s/step - loss: 0.8662 - accuracy: 0.7246 - val_loss: 0.8149 - val_accuracy: 0.7412\n",
      "Epoch 8/10\n",
      "87/87 [==============================] - 443s 5s/step - loss: 0.8270 - accuracy: 0.7340 - val_loss: 0.7847 - val_accuracy: 0.7494\n",
      "Epoch 9/10\n",
      "87/87 [==============================] - 441s 5s/step - loss: 0.7995 - accuracy: 0.7401 - val_loss: 0.7529 - val_accuracy: 0.7558\n",
      "Epoch 10/10\n",
      "87/87 [==============================] - 456s 5s/step - loss: 0.7742 - accuracy: 0.7466 - val_loss: 0.7300 - val_accuracy: 0.7653\n",
      "WARNING:tensorflow:6 out of the last 6 calls to <function Model.make_predict_function.<locals>.predict_function at 0x000001E916A8B160> triggered tf.function retracing. Tracing is expensive and the excessive number of tracings could be due to (1) creating @tf.function repeatedly in a loop, (2) passing tensors with different shapes, (3) passing Python objects instead of tensors. For (1), please define your @tf.function outside of the loop. For (2), @tf.function has experimental_relax_shapes=True option that relaxes argument shapes that can avoid unnecessary retracing. For (3), please refer to https://www.tensorflow.org/tutorials/customization/performance#python_or_tensor_args and https://www.tensorflow.org/api_docs/python/tf/function for  more details.\n",
      "l' inde est gã©nã©ralement gel en janvier et il est jamais agrã©able en en <PAD> <PAD> <PAD> <PAD> <PAD> <PAD> <PAD>\n"
     ]
    }
   ],
   "source": [
    "### Train the bidirectional model on the training data set ###\n",
    "\n",
    "def bd_model_split(input_shape, output_sequence_length, english_vocab_size, french_vocab_size):\n",
    "    \"\"\"\n",
    "    Build and train a bidirectional RNN model on x and y\n",
    "    :param input_shape: Tuple of input shape\n",
    "    :param output_sequence_length: Length of output sequence\n",
    "    :param english_vocab_size: Number of unique English words in the dataset\n",
    "    :param french_vocab_size: Number of unique French words in the dataset\n",
    "    :return: Keras model built, but not trained\n",
    "    \"\"\"\n",
    "    \n",
    "    # Build the bidirectional RNN model\n",
    "    input_layer = Input(shape=input_shape[1:])\n",
    "    x = Bidirectional(GRU(512, return_sequences=True, recurrent_dropout=0.2))(input_layer)\n",
    "    x = Dense(french_vocab_size, activation='relu')(x)\n",
    "    output_layer = TimeDistributed(Dense(french_vocab_size, activation='softmax'))(x)\n",
    "    model = Model(inputs=input_layer, outputs=output_layer)\n",
    "    \n",
    "    # Compile the model\n",
    "    learning_rate = 0.001\n",
    "    model.compile(loss=sparse_categorical_crossentropy,\n",
    "                  optimizer=Adam(learning_rate),\n",
    "                  metrics=['accuracy'])\n",
    "    \n",
    "    return model\n",
    "\n",
    "# Pad the input\n",
    "tmp_x = pad(preproc_english_sentences_train, max_french_sequence_length_train)\n",
    "tmp_x = tmp_x.reshape((-1, preproc_french_sentences_train.shape[-2], 1))\n",
    "\n",
    "# Train the model\n",
    "bidirectional_model_train = bd_model_split(tmp_x.shape,\n",
    "                               max_french_sequence_length_train,\n",
    "                               english_vocab_size_train + 1,\n",
    "                               french_vocab_size_train + 1)\n",
    "# Fit the model\n",
    "bidirectional_model_train.fit(tmp_x, preproc_french_sentences_train, batch_size=1024, epochs=10, validation_split=0.2)\n",
    "\n",
    "# Print out the predictions\n",
    "print(logits_to_text(bidirectional_model_train.predict(tmp_x[:1])[0], french_tokenizer_train))"
   ]
  },
  {
   "cell_type": "markdown",
   "metadata": {
    "colab_type": "text",
    "id": "HcnskCxIRRPu"
   },
   "source": [
    "### Test the bidirectional model on the test data set\n",
    "\n",
    "See how the model trained on the training set data performs on the unseen test data."
   ]
  },
  {
   "cell_type": "code",
   "execution_count": 22,
   "metadata": {
    "colab": {
     "base_uri": "https://localhost:8080/",
     "height": 35
    },
    "colab_type": "code",
    "id": "RfQ2hT87RRPv",
    "outputId": "bde49af9-2e79-4c30-8dd6-8266afbe9176"
   },
   "outputs": [
    {
     "name": "stdout",
     "output_type": "stream",
     "text": [
      "Bidirectional model accuracy on test data: 22.15%\n"
     ]
    }
   ],
   "source": [
    "### Evaluate the bidirectional model on the unseen test data set ###\n",
    "\n",
    "test_x = pad(preproc_english_sentences_test, max_french_sequence_length_test)\n",
    "test_x = test_x.reshape((-1, preproc_french_sentences_train.shape[-2], 1))\n",
    "\n",
    "bidirectional_model_score = bidirectional_model_train.evaluate(test_x, preproc_french_sentences_test, verbose=0)\n",
    "\n",
    "print(\"Bidirectional model accuracy on test data: {0:.2f}%\".format(bidirectional_model_score[1]*100))"
   ]
  },
  {
   "cell_type": "markdown",
   "metadata": {
    "colab_type": "text",
    "id": "Br2jf4ETRRPy"
   },
   "source": [
    "### Model 4: Encoder-Decoder \n",
    "Time to look at encoder-decoder models.  This model is made up of an encoder and decoder. The encoder creates a matrix representation of the sentence.  The decoder takes this matrix as input and predicts the translation as output.\n",
    "\n",
    "Create an encoder-decoder model in the cell below."
   ]
  },
  {
   "cell_type": "code",
   "execution_count": 23,
   "metadata": {
    "colab": {
     "base_uri": "https://localhost:8080/",
     "height": 474
    },
    "colab_type": "code",
    "id": "fOzGbqXpRRPy",
    "outputId": "8ccddb23-0d79-4ba6-e724-5148f231841f"
   },
   "outputs": [
    {
     "name": "stdout",
     "output_type": "stream",
     "text": [
      "Epoch 1/10\n",
      "108/108 [==============================] - 258s 2s/step - loss: 2.5209 - accuracy: 0.4606 - val_loss: 1.9887 - val_accuracy: 0.5192\n",
      "Epoch 2/10\n",
      "108/108 [==============================] - 256s 2s/step - loss: 1.8524 - accuracy: 0.5379 - val_loss: 1.6910 - val_accuracy: 0.5763\n",
      "Epoch 3/10\n",
      "108/108 [==============================] - 255s 2s/step - loss: 1.6509 - accuracy: 0.5727 - val_loss: 1.5752 - val_accuracy: 0.5807\n",
      "Epoch 4/10\n",
      "108/108 [==============================] - 257s 2s/step - loss: 1.4952 - accuracy: 0.5947 - val_loss: 1.3875 - val_accuracy: 0.6189\n",
      "Epoch 5/10\n",
      "108/108 [==============================] - 258s 2s/step - loss: 1.4258 - accuracy: 0.6080 - val_loss: 1.3449 - val_accuracy: 0.6266\n",
      "Epoch 6/10\n",
      "108/108 [==============================] - 257s 2s/step - loss: 1.3790 - accuracy: 0.6176 - val_loss: 1.3220 - val_accuracy: 0.6342\n",
      "Epoch 7/10\n",
      "108/108 [==============================] - 259s 2s/step - loss: 1.3247 - accuracy: 0.6305 - val_loss: 1.2567 - val_accuracy: 0.6530\n",
      "Epoch 8/10\n",
      "108/108 [==============================] - 258s 2s/step - loss: 1.3078 - accuracy: 0.6322 - val_loss: 1.2215 - val_accuracy: 0.6568\n",
      "Epoch 9/10\n",
      "108/108 [==============================] - 257s 2s/step - loss: 1.2774 - accuracy: 0.6397 - val_loss: 1.2496 - val_accuracy: 0.6423\n",
      "Epoch 10/10\n",
      "108/108 [==============================] - 258s 2s/step - loss: 1.2561 - accuracy: 0.6445 - val_loss: 1.1758 - val_accuracy: 0.6693\n",
      "WARNING:tensorflow:7 out of the last 7 calls to <function Model.make_predict_function.<locals>.predict_function at 0x000001E91C3160D0> triggered tf.function retracing. Tracing is expensive and the excessive number of tracings could be due to (1) creating @tf.function repeatedly in a loop, (2) passing tensors with different shapes, (3) passing Python objects instead of tensors. For (1), please define your @tf.function outside of the loop. For (2), @tf.function has experimental_relax_shapes=True option that relaxes argument shapes that can avoid unnecessary retracing. For (3), please refer to https://www.tensorflow.org/tutorials/customization/performance#python_or_tensor_args and https://www.tensorflow.org/api_docs/python/tf/function for  more details.\n",
      "new jersey est gã©nã©ralement froid en mois et il est est en en <PAD> <PAD> <PAD> <PAD> <PAD> <PAD> <PAD> <PAD>\n"
     ]
    }
   ],
   "source": [
    "def encdec_model(input_shape, output_sequence_length, english_vocab_size, french_vocab_size):\n",
    "    \"\"\"\n",
    "    Build and train an encoder-decoder model on x and y\n",
    "    :param input_shape: Tuple of input shape\n",
    "    :param output_sequence_length: Length of output sequence\n",
    "    :param english_vocab_size: Number of unique English words in the dataset\n",
    "    :param french_vocab_size: Number of unique French words in the dataset\n",
    "    :return: Keras model built, but not trained\n",
    "    \"\"\"\n",
    "    #  Implement\n",
    "    \n",
    "    # Build the encoder-decoder RNN model\n",
    "    input_layer= Input(shape=input_shape[1:])\n",
    "    encoder = GRU(256, recurrent_dropout=0.2)(input_layer)\n",
    "    repeat_vector = RepeatVector(output_sequence_length)(encoder)\n",
    "    decoder = GRU(256, return_sequences=True, recurrent_dropout=0.2)(repeat_vector)\n",
    "    dense_layer = Dense(french_vocab_size, activation='relu')(decoder)\n",
    "    output_layer = TimeDistributed(Dense(french_vocab_size, activation='softmax'))(decoder)\n",
    "    \n",
    "    model = Model(inputs=input_layer, outputs=output_layer)\n",
    "    \n",
    "    # Compile the model\n",
    "    learning_rate = 0.01\n",
    "    model.compile(loss=sparse_categorical_crossentropy,\n",
    "                  optimizer=Adam(lr=learning_rate),\n",
    "                  metrics=['accuracy'])\n",
    "    \n",
    "    return model\n",
    "\n",
    "\n",
    "# Reshape the input\n",
    "tmp_x = pad(preproc_english_sentences, max_french_sequence_length)\n",
    "tmp_x = tmp_x.reshape((-1, preproc_french_sentences.shape[-2], 1))\n",
    "\n",
    "# Train the model\n",
    "encoder_decoder_model = encdec_model(tmp_x.shape,\n",
    "                                     max_french_sequence_length,\n",
    "                                     english_vocab_size + 1,\n",
    "                                     french_vocab_size + 1)\n",
    "encoder_decoder_model.fit(tmp_x, preproc_french_sentences, batch_size=1024, epochs=10, validation_split=0.2)\n",
    "\n",
    "# Print the prediction(s)\n",
    "print(logits_to_text(encoder_decoder_model.predict(tmp_x[:1])[0], french_tokenizer))"
   ]
  },
  {
   "cell_type": "markdown",
   "metadata": {
    "colab_type": "text",
    "id": "9zXKFpT5RRP1"
   },
   "source": [
    "### Train the encoder-decoder model on the training dataset\n",
    "\n",
    "Use the same enc-dec model as above but train it on the training data split of the initial dataset."
   ]
  },
  {
   "cell_type": "code",
   "execution_count": 24,
   "metadata": {
    "colab": {
     "base_uri": "https://localhost:8080/",
     "height": 474
    },
    "colab_type": "code",
    "id": "IVXlZk3sRRP1",
    "outputId": "3514ba83-e08a-40a1-f6fe-68291a7e95f2"
   },
   "outputs": [
    {
     "name": "stdout",
     "output_type": "stream",
     "text": [
      "Epoch 1/10\n",
      "87/87 [==============================] - 206s 2s/step - loss: 2.6060 - accuracy: 0.4585 - val_loss: 2.0334 - val_accuracy: 0.5162\n",
      "Epoch 2/10\n",
      "87/87 [==============================] - 205s 2s/step - loss: 1.8479 - accuracy: 0.5388 - val_loss: 1.7309 - val_accuracy: 0.5492\n",
      "Epoch 3/10\n",
      "87/87 [==============================] - 206s 2s/step - loss: 1.6268 - accuracy: 0.5741 - val_loss: 1.5409 - val_accuracy: 0.5911\n",
      "Epoch 4/10\n",
      "87/87 [==============================] - 205s 2s/step - loss: 1.5115 - accuracy: 0.5917 - val_loss: 1.4505 - val_accuracy: 0.6013\n",
      "Epoch 5/10\n",
      "87/87 [==============================] - 206s 2s/step - loss: 1.4261 - accuracy: 0.6066 - val_loss: 1.3557 - val_accuracy: 0.6242\n",
      "Epoch 6/10\n",
      "87/87 [==============================] - 205s 2s/step - loss: 1.3904 - accuracy: 0.6112 - val_loss: 1.3271 - val_accuracy: 0.6247\n",
      "Epoch 7/10\n",
      "87/87 [==============================] - 205s 2s/step - loss: 1.3388 - accuracy: 0.6229 - val_loss: 1.2819 - val_accuracy: 0.6379\n",
      "Epoch 8/10\n",
      "87/87 [==============================] - 206s 2s/step - loss: 1.3067 - accuracy: 0.6306 - val_loss: 1.2977 - val_accuracy: 0.6294\n",
      "Epoch 9/10\n",
      "87/87 [==============================] - 206s 2s/step - loss: 1.2657 - accuracy: 0.6401 - val_loss: 1.2142 - val_accuracy: 0.6541\n",
      "Epoch 10/10\n",
      "87/87 [==============================] - 206s 2s/step - loss: 1.2504 - accuracy: 0.6419 - val_loss: 1.1958 - val_accuracy: 0.6543\n",
      "WARNING:tensorflow:8 out of the last 8 calls to <function Model.make_predict_function.<locals>.predict_function at 0x000001E9294B2550> triggered tf.function retracing. Tracing is expensive and the excessive number of tracings could be due to (1) creating @tf.function repeatedly in a loop, (2) passing tensors with different shapes, (3) passing Python objects instead of tensors. For (1), please define your @tf.function outside of the loop. For (2), @tf.function has experimental_relax_shapes=True option that relaxes argument shapes that can avoid unnecessary retracing. For (3), please refer to https://www.tensorflow.org/tutorials/customization/performance#python_or_tensor_args and https://www.tensorflow.org/api_docs/python/tf/function for  more details.\n",
      "la inde est jamais agrã©able en l' mais il est est agrã©able en en <PAD> <PAD> <PAD> <PAD> <PAD> <PAD> <PAD>\n"
     ]
    }
   ],
   "source": [
    "### Train the encoder-decoder model on the training split of the dataset ###\n",
    "\n",
    "def encdec_model_train(input_shape, output_sequence_length, english_vocab_size, french_vocab_size):\n",
    "    \"\"\"\n",
    "    Build and train an encoder-decoder model on x and y\n",
    "    :param input_shape: Tuple of input shape\n",
    "    :param output_sequence_length: Length of output sequence\n",
    "    :param english_vocab_size: Number of unique English words in the dataset\n",
    "    :param french_vocab_size: Number of unique French words in the dataset\n",
    "    :return: Keras model built, but not trained\n",
    "    \"\"\"\n",
    "    \n",
    "    # Build the encoder-decoder RNN model\n",
    "    input_layer= Input(shape=input_shape[1:])\n",
    "    encoder = GRU(256, recurrent_dropout=0.2)(input_layer)\n",
    "    repeat_vector = RepeatVector(output_sequence_length)(encoder)\n",
    "    decoder = GRU(256, return_sequences=True, recurrent_dropout=0.2)(repeat_vector)\n",
    "    dense_layer = Dense(french_vocab_size, activation='relu')(decoder)\n",
    "    output_layer = TimeDistributed(Dense(french_vocab_size, activation='softmax'))(decoder)\n",
    "    \n",
    "    model = Model(inputs=input_layer, outputs=output_layer)\n",
    "    \n",
    "    # Compile the model\n",
    "    learning_rate = 0.01\n",
    "    model.compile(loss=sparse_categorical_crossentropy,\n",
    "                  optimizer=Adam(lr=learning_rate),\n",
    "                  metrics=['accuracy'])\n",
    "    \n",
    "    return model\n",
    "\n",
    "# Reshape the input\n",
    "tmp_x = pad(preproc_english_sentences_train, max_french_sequence_length_train)\n",
    "tmp_x = tmp_x.reshape((-1, preproc_french_sentences_train.shape[-2], 1))\n",
    "\n",
    "# Train the model\n",
    "encoder_decoder_model_train = encdec_model_train(tmp_x.shape,\n",
    "                                     max_french_sequence_length_train,\n",
    "                                     english_vocab_size_train + 1,\n",
    "                                     french_vocab_size_train + 1)\n",
    "encoder_decoder_model_train.fit(tmp_x, preproc_french_sentences_train, batch_size=1024, epochs=10, validation_split=0.2)\n",
    "\n",
    "# Print the prediction(s)\n",
    "print(logits_to_text(encoder_decoder_model_train.predict(tmp_x[:1])[0], french_tokenizer_train))"
   ]
  },
  {
   "cell_type": "markdown",
   "metadata": {
    "colab_type": "text",
    "id": "jNNgkzWSRRP5"
   },
   "source": [
    "### Evaluate the enc-dec model on the test set\n",
    "\n",
    "Use the unseen test data set to evaluate the enc-dec model trained on the training data."
   ]
  },
  {
   "cell_type": "code",
   "execution_count": 25,
   "metadata": {
    "colab": {
     "base_uri": "https://localhost:8080/",
     "height": 90
    },
    "colab_type": "code",
    "id": "xCFSy6hSRRP5",
    "outputId": "52f20d4d-8fef-4767-ad47-9afbaf389403",
    "scrolled": true
   },
   "outputs": [
    {
     "name": "stdout",
     "output_type": "stream",
     "text": [
      "(26260, 21, 1)\n",
      "(110288, 21, 1)\n",
      "(26260, 21, 1)\n",
      "Encoder-decoder model accuracy on the unseen test data: 23.06%\n"
     ]
    }
   ],
   "source": [
    "### Evaluate the encoder-decoder model on the unseen test dataset ###\n",
    "\n",
    "# Shape the data to fit\n",
    "test_x = pad(preproc_english_sentences_test, max_french_sequence_length_test)\n",
    "test_x = test_x.reshape((-1, preproc_french_sentences_train.shape[-2], 1))\n",
    "preproc_french_sentences_test = preproc_french_sentences_test.reshape((-1, preproc_french_sentences_train.shape[-2], 1))\n",
    "\n",
    "print(test_x.shape)\n",
    "print(preproc_french_sentences_train.shape)\n",
    "print(preproc_french_sentences_test.shape)\n",
    "\n",
    "# Evaluate the model\n",
    "encoder_decoder_model_score = encoder_decoder_model_train.evaluate(test_x, preproc_french_sentences_test, verbose=0)\n",
    "\n",
    "print(\"Encoder-decoder model accuracy on the unseen test data: {0:.2f}%\".format(encoder_decoder_model_score[1]*100))"
   ]
  },
  {
   "cell_type": "markdown",
   "metadata": {
    "colab_type": "text",
    "id": "R4k7MydbRRP8"
   },
   "source": [
    "### Model 5: Custom (IMPLEMENTATION)\n",
    "Use everything you learned from the previous models to create a model that incorporates embedding and a bidirectional rnn into one model."
   ]
  },
  {
   "cell_type": "code",
   "execution_count": 26,
   "metadata": {
    "colab": {
     "base_uri": "https://localhost:8080/",
     "height": 35
    },
    "colab_type": "code",
    "id": "aVzqNA4lRRP8",
    "outputId": "b3873e44-bc4c-4947-cb30-ee6e06028e93"
   },
   "outputs": [
    {
     "name": "stdout",
     "output_type": "stream",
     "text": [
      "Final Model Loaded\n"
     ]
    }
   ],
   "source": [
    "def model_final(input_shape, output_sequence_length, english_vocab_size, french_vocab_size):\n",
    "    \"\"\"\n",
    "    Build and train a model that incorporates embedding, encoder-decoder, and bidirectional RNN on x and y\n",
    "    :param input_shape: Tuple of input shape\n",
    "    :param output_sequence_length: Length of output sequence\n",
    "    :param english_vocab_size: Number of unique English words in the dataset\n",
    "    :param french_vocab_size: Number of unique French words in the dataset\n",
    "    :return: Keras model built, but not trained\n",
    "    \"\"\"\n",
    "    #  Implement\n",
    "    \n",
    "    # Final model 2 - simplified version of final model 1\n",
    "    # Added Dense layer with relu activation after first GRU layer instead of after 2nd GRU layer\n",
    "    \n",
    "    input_layer = Input(shape=input_shape[1:])\n",
    "    embedding_layer = Embedding(english_vocab_size*2, english_vocab_size)(input_layer)\n",
    "    x = Bidirectional(GRU(256))(embedding_layer)\n",
    "    x = Dense(256, activation='relu')(x)\n",
    "    x = RepeatVector(output_sequence_length)(x)\n",
    "    x = Bidirectional(GRU(256, return_sequences=True))(x)\n",
    "    output_layer = TimeDistributed(Dense(french_vocab_size, activation='softmax'))(x)\n",
    "    \n",
    "    \n",
    "    ### Final model 1 ###\n",
    "    \n",
    "    # Build RNN model with embedding, encoder-decoder and bidirectional layers\n",
    "    #input_layer = Input(shape=input_shape[1:])\n",
    "    #embedding_layer = Embedding(750, english_vocab_size)(input_layer)\n",
    "    #encoder = GRU(750)(embedding_layer)\n",
    "    #repeat_vector = RepeatVector(output_sequence_length)(encoder)\n",
    "    #decoder = Bidirectional(GRU(750, return_sequences=True))(repeat_vector)\n",
    "    #dense_layer = TimeDistributed(Dense(french_vocab_size*2, activation='relu'))(decoder)\n",
    "    #output_layer = Dense(french_vocab_size, activation='softmax')(dense_layer)\n",
    "    \n",
    "    model = Model(inputs=input_layer, outputs=output_layer)\n",
    "    \n",
    "    # Compile the model\n",
    "    learning_rate = 0.005\n",
    "    model.compile(loss=sparse_categorical_crossentropy,\n",
    "                  optimizer=Adam(lr=learning_rate),\n",
    "                  metrics=['accuracy'])\n",
    "    return model\n",
    "\n",
    "\n",
    "\n",
    "print('Final Model Loaded')"
   ]
  },
  {
   "cell_type": "markdown",
   "metadata": {
    "colab_type": "text",
    "id": "z6_kntAQRRP_"
   },
   "source": [
    "## Prediction (IMPLEMENTATION)"
   ]
  },
  {
   "cell_type": "code",
   "execution_count": 27,
   "metadata": {
    "colab": {
     "base_uri": "https://localhost:8080/",
     "height": 528
    },
    "colab_type": "code",
    "id": "KjkI_Q8MRRP_",
    "outputId": "a55f2a8d-0f0f-4df9-b597-3d97dabf4949"
   },
   "outputs": [
    {
     "name": "stdout",
     "output_type": "stream",
     "text": [
      "Epoch 1/10\n",
      "108/108 [==============================] - 471s 4s/step - loss: 2.1109 - accuracy: 0.5237 - val_loss: 1.3870 - val_accuracy: 0.6271\n",
      "Epoch 2/10\n",
      "108/108 [==============================] - 467s 4s/step - loss: 1.0996 - accuracy: 0.6974 - val_loss: 0.8795 - val_accuracy: 0.7462\n",
      "Epoch 3/10\n",
      "108/108 [==============================] - 469s 4s/step - loss: 0.7422 - accuracy: 0.7805 - val_loss: 0.6502 - val_accuracy: 0.8045\n",
      "Epoch 4/10\n",
      "108/108 [==============================] - 467s 4s/step - loss: 0.5230 - accuracy: 0.8429 - val_loss: 0.3883 - val_accuracy: 0.8848\n",
      "Epoch 5/10\n",
      "108/108 [==============================] - 468s 4s/step - loss: 0.3172 - accuracy: 0.9086 - val_loss: 0.2426 - val_accuracy: 0.9344\n",
      "Epoch 6/10\n",
      "108/108 [==============================] - 469s 4s/step - loss: 0.2140 - accuracy: 0.9404 - val_loss: 0.1962 - val_accuracy: 0.9446\n",
      "Epoch 7/10\n",
      "108/108 [==============================] - 468s 4s/step - loss: 0.1781 - accuracy: 0.9494 - val_loss: 0.1999 - val_accuracy: 0.9422\n",
      "Epoch 8/10\n",
      "108/108 [==============================] - 468s 4s/step - loss: 0.1520 - accuracy: 0.9558 - val_loss: 0.1317 - val_accuracy: 0.9620\n",
      "Epoch 9/10\n",
      "108/108 [==============================] - 468s 4s/step - loss: 0.1136 - accuracy: 0.9670 - val_loss: 0.1141 - val_accuracy: 0.9677\n",
      "Epoch 10/10\n",
      "108/108 [==============================] - 468s 4s/step - loss: 0.0998 - accuracy: 0.9710 - val_loss: 0.1069 - val_accuracy: 0.9686\n",
      "WARNING:tensorflow:9 out of the last 9 calls to <function Model.make_predict_function.<locals>.predict_function at 0x000001E970994670> triggered tf.function retracing. Tracing is expensive and the excessive number of tracings could be due to (1) creating @tf.function repeatedly in a loop, (2) passing tensors with different shapes, (3) passing Python objects instead of tensors. For (1), please define your @tf.function outside of the loop. For (2), @tf.function has experimental_relax_shapes=True option that relaxes argument shapes that can avoid unnecessary retracing. For (3), please refer to https://www.tensorflow.org/tutorials/customization/performance#python_or_tensor_args and https://www.tensorflow.org/api_docs/python/tf/function for  more details.\n",
      "Sample 1:\n",
      "il a vu un vieux camion jaune <PAD> <PAD> <PAD> <PAD> <PAD> <PAD> <PAD> <PAD> <PAD> <PAD> <PAD> <PAD> <PAD> <PAD>\n",
      "Il a vu un vieux camion jaune\n",
      "Sample 2:\n",
      "new jersey est parfois calme pendant l' automne et il est neigeux en avril <PAD> <PAD> <PAD> <PAD> <PAD> <PAD> <PAD>\n",
      "new jersey est parfois calme pendant l' automne et il est neigeux en avril <PAD> <PAD> <PAD> <PAD> <PAD> <PAD> <PAD>\n"
     ]
    }
   ],
   "source": [
    "def final_predictions(x, y, x_tk, y_tk):\n",
    "    \"\"\"\n",
    "    Gets predictions using the final model\n",
    "    :param x: Preprocessed English data\n",
    "    :param y: Preprocessed French data\n",
    "    :param x_tk: English tokenizer\n",
    "    :param y_tk: French tokenizer\n",
    "    \"\"\"\n",
    "    \n",
    "    \n",
    "    # Reshape the input\n",
    "    x = pad(x, y.shape[1])\n",
    "    \n",
    "    # Define final_model\n",
    "    final_model = model_final(x.shape, \n",
    "                              y.shape[1],\n",
    "                              len(x_tk.word_index) + 1,\n",
    "                              len(y_tk.word_index) + 1)\n",
    "    # Fit the final model\n",
    "    final_model.fit(x, y, batch_size=1024, epochs=10, validation_split=0.2)\n",
    "    \n",
    "    model = final_model\n",
    "\n",
    "    \n",
    "    \n",
    "    y_id_to_word = {value: key for key, value in y_tk.word_index.items()}\n",
    "    y_id_to_word[0] = '<PAD>'\n",
    "\n",
    "    sentence = 'he saw a old yellow truck'\n",
    "    sentence = [x_tk.word_index[word] for word in sentence.split()]\n",
    "    sentence = pad_sequences([sentence], maxlen=x.shape[-1], padding='post')\n",
    "    sentences = np.array([sentence[0], x[0]])\n",
    "    predictions = model.predict(sentences, len(sentences))\n",
    "\n",
    "    print('Sample 1:')\n",
    "    print(' '.join([y_id_to_word[np.argmax(x)] for x in predictions[0]]))\n",
    "    print('Il a vu un vieux camion jaune')\n",
    "    print('Sample 2:')\n",
    "    print(' '.join([y_id_to_word[np.argmax(x)] for x in predictions[1]]))\n",
    "    print(' '.join([y_id_to_word[np.max(x)] for x in y[0]]))\n",
    "\n",
    "\n",
    "final_predictions(preproc_english_sentences, preproc_french_sentences, english_tokenizer, french_tokenizer)"
   ]
  },
  {
   "cell_type": "markdown",
   "metadata": {
    "colab_type": "text",
    "id": "AGWkiD_ERRQC"
   },
   "source": [
    "### Train the final model on the training data set\n",
    "\n",
    "Use the same model as above on the training data split to see how it performs on the training split of the data."
   ]
  },
  {
   "cell_type": "code",
   "execution_count": 28,
   "metadata": {
    "colab": {
     "base_uri": "https://localhost:8080/",
     "height": 437
    },
    "colab_type": "code",
    "id": "J5gyU8QWRRQC",
    "outputId": "24c0c227-83f9-4b50-f728-2f3b62a1b6df"
   },
   "outputs": [
    {
     "name": "stdout",
     "output_type": "stream",
     "text": [
      "Epoch 1/10\n",
      "87/87 [==============================] - 377s 4s/step - loss: 2.2648 - accuracy: 0.5050 - val_loss: 1.4423 - val_accuracy: 0.6239\n",
      "Epoch 2/10\n",
      "87/87 [==============================] - 376s 4s/step - loss: 1.2024 - accuracy: 0.6740 - val_loss: 0.9701 - val_accuracy: 0.7281\n",
      "Epoch 3/10\n",
      "87/87 [==============================] - 391s 4s/step - loss: 0.8535 - accuracy: 0.7536 - val_loss: 0.7717 - val_accuracy: 0.7695\n",
      "Epoch 4/10\n",
      "87/87 [==============================] - 412s 5s/step - loss: 0.6199 - accuracy: 0.8140 - val_loss: 0.5123 - val_accuracy: 0.8457\n",
      "Epoch 5/10\n",
      "87/87 [==============================] - 394s 5s/step - loss: 0.4370 - accuracy: 0.8703 - val_loss: 0.4654 - val_accuracy: 0.8602\n",
      "Epoch 6/10\n",
      "87/87 [==============================] - 377s 4s/step - loss: 0.3058 - accuracy: 0.9120 - val_loss: 0.3200 - val_accuracy: 0.9051\n",
      "Epoch 7/10\n",
      "87/87 [==============================] - 371s 4s/step - loss: 0.2312 - accuracy: 0.9342 - val_loss: 0.3060 - val_accuracy: 0.9094\n",
      "Epoch 8/10\n",
      "87/87 [==============================] - 370s 4s/step - loss: 0.1991 - accuracy: 0.9436 - val_loss: 0.1631 - val_accuracy: 0.9542\n",
      "Epoch 9/10\n",
      "87/87 [==============================] - 374s 4s/step - loss: 0.1365 - accuracy: 0.9617 - val_loss: 0.1716 - val_accuracy: 0.9505\n",
      "Epoch 10/10\n",
      "87/87 [==============================] - 371s 4s/step - loss: 0.1279 - accuracy: 0.9635 - val_loss: 0.1532 - val_accuracy: 0.9557\n",
      "WARNING:tensorflow:10 out of the last 10 calls to <function Model.make_predict_function.<locals>.predict_function at 0x000001E9179F6D30> triggered tf.function retracing. Tracing is expensive and the excessive number of tracings could be due to (1) creating @tf.function repeatedly in a loop, (2) passing tensors with different shapes, (3) passing Python objects instead of tensors. For (1), please define your @tf.function outside of the loop. For (2), @tf.function has experimental_relax_shapes=True option that relaxes argument shapes that can avoid unnecessary retracing. For (3), please refer to https://www.tensorflow.org/tutorials/customization/performance#python_or_tensor_args and https://www.tensorflow.org/api_docs/python/tf/function for  more details.\n",
      "l' inde est le gel habituellement en janvier et il est jamais agrã©able ã  l' automne <PAD> <PAD> <PAD> <PAD> <PAD>\n"
     ]
    }
   ],
   "source": [
    "### Train final model on training dataset ###\n",
    "\n",
    "# Pad the input\n",
    "tmp_x = pad(preproc_english_sentences_train, max_french_sequence_length_train)\n",
    "\n",
    "# Train the model\n",
    "final_model_train = model_final(tmp_x.shape,\n",
    "                                max_french_sequence_length_train,\n",
    "                                english_vocab_size_train + 1,\n",
    "                                french_vocab_size_train + 1)\n",
    "# Fit the model\n",
    "final_model_train.fit(tmp_x, preproc_french_sentences_train, batch_size=1024, epochs=10, validation_split=0.2)\n",
    "\n",
    "# Print out the predictions\n",
    "print(logits_to_text(final_model_train.predict(tmp_x[:1])[0], french_tokenizer_train))"
   ]
  },
  {
   "cell_type": "markdown",
   "metadata": {
    "colab_type": "text",
    "id": "c2TSPEI2RRQF"
   },
   "source": [
    "### Test the final model on the test data set\n",
    "\n",
    "See how the model trained on the training set data performs on the unseen test data."
   ]
  },
  {
   "cell_type": "code",
   "execution_count": 29,
   "metadata": {
    "colab": {
     "base_uri": "https://localhost:8080/",
     "height": 90
    },
    "colab_type": "code",
    "id": "vK7R8PDpRRQF",
    "outputId": "137de3a4-5982-4926-e691-3c877f14d331"
   },
   "outputs": [
    {
     "name": "stdout",
     "output_type": "stream",
     "text": [
      "(26260, 21)\n",
      "(110288, 21, 1)\n",
      "(26260, 21, 1)\n",
      "Final model accuracy on test dataset: 20.87%\n"
     ]
    }
   ],
   "source": [
    "### Evaluate the final_model trained on the training set on the test data set ###\n",
    "\n",
    "# Pad the test data input\n",
    "test_x = pad(preproc_english_sentences_test, max_french_sequence_length_test)\n",
    "test_x = test_x.reshape((-1, preproc_french_sentences_train.shape[-2]))\n",
    "preproc_french_sentences_test = preproc_french_sentences_test.reshape((-1, preproc_french_sentences_train.shape[-2], 1))\n",
    "\n",
    "print(test_x.shape)\n",
    "print(preproc_french_sentences_train.shape)\n",
    "print(preproc_french_sentences_test.shape)\n",
    "\n",
    "# Evaluate the model\n",
    "final_model_test_score = final_model_train.evaluate(test_x, preproc_french_sentences_test, verbose=0)\n",
    "\n",
    "print(\"Final model accuracy on test dataset: {0:.2f}%\".format(final_model_test_score[1]*100))"
   ]
  },
  {
   "cell_type": "markdown",
   "metadata": {
    "colab_type": "text",
    "id": "LYYw2RE-RRQH"
   },
   "source": [
    "### Model Performance on Test Data\n",
    "\n",
    "How did each of the models perform on the test dataset?"
   ]
  },
  {
   "cell_type": "code",
   "execution_count": 30,
   "metadata": {
    "colab": {
     "base_uri": "https://localhost:8080/",
     "height": 108
    },
    "colab_type": "code",
    "id": "jk2tAH-BRRQI",
    "outputId": "e0d07968-b1d5-4132-fe16-cdf73c98e4d7"
   },
   "outputs": [
    {
     "name": "stdout",
     "output_type": "stream",
     "text": [
      "Simple model accuracy on unseen test dataset: 39.36%\n",
      "Embedding model accuracy on unseen test data: 38.70%\n",
      "Bidirectional model accuracy on test data: 22.15%\n",
      "Encoder-decoder model accuracy on the unseen test data: 23.06%\n",
      "Final model accuracy on test dataset: 20.87%\n"
     ]
    }
   ],
   "source": [
    "print(\"Simple model accuracy on unseen test dataset: {0:.2f}%\".format(simple_rnn_model_score[1]*100))\n",
    "print(\"Embedding model accuracy on unseen test data: {0:.2f}%\".format(embedding_model_score[1]*100))\n",
    "print(\"Bidirectional model accuracy on test data: {0:.2f}%\".format(bidirectional_model_score[1]*100))\n",
    "print(\"Encoder-decoder model accuracy on the unseen test data: {0:.2f}%\".format(encoder_decoder_model_score[1]*100))\n",
    "print(\"Final model accuracy on test dataset: {0:.2f}%\".format(final_model_test_score[1]*100))"
   ]
  },
  {
   "cell_type": "markdown",
   "metadata": {
    "colab_type": "text",
    "id": "ju4baRm8RRQL"
   },
   "source": [
    "The Embedding model achieved the highest accuracy on the unseen test data.\n",
    "\n",
    "It seems none of the models were able to achieve an accuracy level on the test set close to what they achieved on the whole dataset. \n",
    "\n",
    "This may be an issue with the `train_test_split` implementation or the lack of data in the training set for the complex models to train on. \n",
    "\n",
    "The more complex models (`final_model`, `encoder-decoder` and `bidrectional`) achieved good results on the training data but poor results on the test data. This leads me to believe the models are overfitting on the training set and in turn, not performing well on the test set. \n",
    "\n",
    "A next step would be to try and use a larger train/test data split with the complex models to see if their performance improves. "
   ]
  }
 ],
 "metadata": {
  "accelerator": "GPU",
  "colab": {
   "name": "42.ipynb",
   "provenance": []
  },
  "kernelspec": {
   "display_name": "Python 3",
   "language": "python",
   "name": "python3"
  },
  "language_info": {
   "codemirror_mode": {
    "name": "ipython",
    "version": 3
   },
   "file_extension": ".py",
   "mimetype": "text/x-python",
   "name": "python",
   "nbconvert_exporter": "python",
   "pygments_lexer": "ipython3",
   "version": "3.8.3"
  }
 },
 "nbformat": 4,
 "nbformat_minor": 1
}
